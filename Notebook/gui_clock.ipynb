{
  "nbformat": 4,
  "nbformat_minor": 0,
  "metadata": {
    "colab": {
      "provenance": [],
      "authorship_tag": "ABX9TyO5jHjOybvm8XtDVa8EK4hb",
      "include_colab_link": true
    },
    "kernelspec": {
      "name": "python3",
      "display_name": "Python 3"
    },
    "language_info": {
      "name": "python"
    }
  },
  "cells": [
    {
      "cell_type": "markdown",
      "metadata": {
        "id": "view-in-github",
        "colab_type": "text"
      },
      "source": [
        "<a href=\"https://colab.research.google.com/github/HlexNC/THD-AIN-B-2-Programming-2-SS-24/blob/main/Notebook/gui_clock.ipynb\" target=\"_parent\"><img src=\"https://colab.research.google.com/assets/colab-badge.svg\" alt=\"Open In Colab\"/></a>"
      ]
    },
    {
      "cell_type": "markdown",
      "source": [
        "# GUI Clock with Timer and Countdown in Jupyter Notebook"
      ],
      "metadata": {
        "id": "nKbK1fh0EIoq"
      }
    },
    {
      "cell_type": "markdown",
      "source": [
        "## Setup\n"
      ],
      "metadata": {
        "id": "kOUpa75DEIgu"
      }
    },
    {
      "cell_type": "code",
      "source": [
        "# Import required libraries\n",
        "import tkinter as tk\n",
        "from tkinter import filedialog\n",
        "from tkinter import messagebox\n",
        "import time\n",
        "import datetime\n",
        "import threading"
      ],
      "metadata": {
        "id": "Idl0tW3sEGii"
      },
      "execution_count": 4,
      "outputs": []
    },
    {
      "cell_type": "markdown",
      "source": [
        "## GUI Clock Class"
      ],
      "metadata": {
        "id": "asDzBwNVEOna"
      }
    },
    {
      "cell_type": "code",
      "source": [
        "class GuiClock:\n",
        "    def __init__(self, root):\n",
        "        self.root = root\n",
        "        self.root.title(\"GUI Clock\")\n",
        "\n",
        "        self.timer_running = False\n",
        "        self.countdown_running = False\n",
        "        self.timer_start_time = None\n",
        "\n",
        "        # Clock display\n",
        "        self.time_label = tk.Label(root, font=('Helvetica', 24))\n",
        "        self.time_label.grid(row=0, column=0, columnspan=4, padx=10, pady=10)\n",
        "\n",
        "        self.update_clock()\n",
        "\n",
        "        # Timer\n",
        "        self.timer_button = tk.Button(root, text=\"Start Timer\", command=self.toggle_timer, width=10)\n",
        "        self.timer_button.grid(row=1, column=0, padx=10, pady=10)\n",
        "\n",
        "        self.file_path_var = tk.StringVar()\n",
        "        self.file_entry = tk.Entry(root, textvariable=self.file_path_var, width=30)\n",
        "        self.file_entry.grid(row=1, column=1, padx=10, pady=10)\n",
        "\n",
        "        self.browse_button = tk.Button(root, text=\"Browse\", command=self.browse_file)\n",
        "        self.browse_button.grid(row=1, column=2, padx=10, pady=10)\n",
        "\n",
        "        # Countdown\n",
        "        tk.Label(root, text=\"Minutes:\").grid(row=2, column=0, padx=10, pady=5)\n",
        "        tk.Label(root, text=\"Seconds:\").grid(row=2, column=2, padx=10, pady=5)\n",
        "\n",
        "        self.minutes_var = tk.StringVar()\n",
        "        self.seconds_var = tk.StringVar()\n",
        "\n",
        "        self.minutes_entry = tk.Entry(root, textvariable=self.minutes_var, width=5)\n",
        "        self.minutes_entry.grid(row=2, column=1, padx=10, pady=5)\n",
        "\n",
        "        self.seconds_entry = tk.Entry(root, textvariable=self.seconds_var, width=5)\n",
        "        self.seconds_entry.grid(row=2, column=3, padx=10, pady=5)\n",
        "\n",
        "        self.countdown_button = tk.Button(root, text=\"Start Countdown\", command=self.start_countdown)\n",
        "        self.countdown_button.grid(row=3, column=0, columnspan=4, pady=10)\n",
        "\n",
        "    def update_clock(self):\n",
        "        now = datetime.datetime.now()\n",
        "        current_time = now.strftime(\"%H:%M:%S %A %d-%m-%Y\")\n",
        "        self.time_label.config(text=current_time)\n",
        "        self.root.after(1000, self.update_clock)\n",
        "\n",
        "    def toggle_timer(self):\n",
        "        if self.timer_running:\n",
        "            self.stop_timer()\n",
        "        else:\n",
        "            self.start_timer()\n",
        "\n",
        "    def start_timer(self):\n",
        "        self.timer_running = True\n",
        "        self.timer_start_time = time.time()\n",
        "        self.timer_button.config(text=\"Stop Timer\", bg=\"red\")\n",
        "\n",
        "    def stop_timer(self):\n",
        "        self.timer_running = False\n",
        "        end_time = time.time()\n",
        "        duration = end_time - self.timer_start_time\n",
        "        self.timer_button.config(text=\"Start Timer\", bg=\"SystemButtonFace\")\n",
        "        self.write_timer_to_file(self.timer_start_time, end_time, duration)\n",
        "\n",
        "    def write_timer_to_file(self, start, end, duration):\n",
        "        file_path = self.file_path_var.get()\n",
        "        if not file_path:\n",
        "            messagebox.showwarning(\"No file\", \"Please select a file to save the timer logs.\")\n",
        "            return\n",
        "\n",
        "        with open(file_path, 'a') as file:\n",
        "            file.write(f\"Start: {time.ctime(start)}, End: {time.ctime(end)}, Duration: {duration:.2f} seconds\\n\")\n",
        "\n",
        "    def browse_file(self):\n",
        "        file_path = filedialog.asksaveasfilename(defaultextension=\".txt\", filetypes=[(\"Text files\", \"*.txt\"), (\"All files\", \"*.*\")])\n",
        "        if file_path:\n",
        "            self.file_path_var.set(file_path)\n",
        "\n",
        "    def start_countdown(self):\n",
        "        if self.countdown_running:\n",
        "            return\n",
        "\n",
        "        try:\n",
        "            minutes = int(self.minutes_var.get())\n",
        "            seconds = int(self.seconds_var.get())\n",
        "        except ValueError:\n",
        "            messagebox.showerror(\"Invalid input\", \"Please enter valid numbers for minutes and seconds.\")\n",
        "            return\n",
        "\n",
        "        total_seconds = minutes * 60 + seconds\n",
        "        self.countdown_running = True\n",
        "        self.update_countdown(total_seconds)\n",
        "\n",
        "    def update_countdown(self, remaining):\n",
        "        if remaining < 0:\n",
        "            self.countdown_running = False\n",
        "            messagebox.showinfo(\"Countdown finished\", \"The countdown has ended!\")\n",
        "            return\n",
        "\n",
        "        minutes, seconds = divmod(remaining, 60)\n",
        "        self.minutes_var.set(f\"{minutes:02}\")\n",
        "        self.seconds_var.set(f\"{seconds:02}\")\n",
        "\n",
        "        self.root.after(1000, self.update_countdown, remaining - 1)"
      ],
      "metadata": {
        "id": "jBjJdB2LEVeR"
      },
      "execution_count": 5,
      "outputs": []
    },
    {
      "cell_type": "markdown",
      "source": [
        "## Main function to start the GUI"
      ],
      "metadata": {
        "id": "vNjuMeYFEa4j"
      }
    },
    {
      "cell_type": "code",
      "source": [
        "def main():\n",
        "    root = tk.Tk()\n",
        "    app = GuiClock(root)\n",
        "    root.mainloop()"
      ],
      "metadata": {
        "id": "FaQ9tAMREc3H"
      },
      "execution_count": 6,
      "outputs": []
    },
    {
      "cell_type": "code",
      "source": [
        "# Call the main function to run the program\n",
        "if __name__ == \"__main__\":\n",
        "    main()"
      ],
      "metadata": {
        "colab": {
          "base_uri": "https://localhost:8080/",
          "height": 321
        },
        "id": "Fm_Fu79KEgCq",
        "outputId": "a91e63ad-99fd-4b64-9abe-db77da1bf2db"
      },
      "execution_count": 7,
      "outputs": [
        {
          "output_type": "error",
          "ename": "TclError",
          "evalue": "no display name and no $DISPLAY environment variable",
          "traceback": [
            "\u001b[0;31m---------------------------------------------------------------------------\u001b[0m",
            "\u001b[0;31mTclError\u001b[0m                                  Traceback (most recent call last)",
            "\u001b[0;32m<ipython-input-7-50e30171083f>\u001b[0m in \u001b[0;36m<cell line: 2>\u001b[0;34m()\u001b[0m\n\u001b[1;32m      1\u001b[0m \u001b[0;31m# Call the main function to run the program\u001b[0m\u001b[0;34m\u001b[0m\u001b[0;34m\u001b[0m\u001b[0m\n\u001b[1;32m      2\u001b[0m \u001b[0;32mif\u001b[0m \u001b[0m__name__\u001b[0m \u001b[0;34m==\u001b[0m \u001b[0;34m\"__main__\"\u001b[0m\u001b[0;34m:\u001b[0m\u001b[0;34m\u001b[0m\u001b[0;34m\u001b[0m\u001b[0m\n\u001b[0;32m----> 3\u001b[0;31m     \u001b[0mmain\u001b[0m\u001b[0;34m(\u001b[0m\u001b[0;34m)\u001b[0m\u001b[0;34m\u001b[0m\u001b[0;34m\u001b[0m\u001b[0m\n\u001b[0m",
            "\u001b[0;32m<ipython-input-6-39047bc5a6cd>\u001b[0m in \u001b[0;36mmain\u001b[0;34m()\u001b[0m\n\u001b[1;32m      1\u001b[0m \u001b[0;32mdef\u001b[0m \u001b[0mmain\u001b[0m\u001b[0;34m(\u001b[0m\u001b[0;34m)\u001b[0m\u001b[0;34m:\u001b[0m\u001b[0;34m\u001b[0m\u001b[0;34m\u001b[0m\u001b[0m\n\u001b[0;32m----> 2\u001b[0;31m     \u001b[0mroot\u001b[0m \u001b[0;34m=\u001b[0m \u001b[0mtk\u001b[0m\u001b[0;34m.\u001b[0m\u001b[0mTk\u001b[0m\u001b[0;34m(\u001b[0m\u001b[0;34m)\u001b[0m\u001b[0;34m\u001b[0m\u001b[0;34m\u001b[0m\u001b[0m\n\u001b[0m\u001b[1;32m      3\u001b[0m     \u001b[0mapp\u001b[0m \u001b[0;34m=\u001b[0m \u001b[0mGuiClock\u001b[0m\u001b[0;34m(\u001b[0m\u001b[0mroot\u001b[0m\u001b[0;34m)\u001b[0m\u001b[0;34m\u001b[0m\u001b[0;34m\u001b[0m\u001b[0m\n\u001b[1;32m      4\u001b[0m     \u001b[0mroot\u001b[0m\u001b[0;34m.\u001b[0m\u001b[0mmainloop\u001b[0m\u001b[0;34m(\u001b[0m\u001b[0;34m)\u001b[0m\u001b[0;34m\u001b[0m\u001b[0;34m\u001b[0m\u001b[0m\n",
            "\u001b[0;32m/usr/lib/python3.10/tkinter/__init__.py\u001b[0m in \u001b[0;36m__init__\u001b[0;34m(self, screenName, baseName, className, useTk, sync, use)\u001b[0m\n\u001b[1;32m   2297\u001b[0m                 \u001b[0mbaseName\u001b[0m \u001b[0;34m=\u001b[0m \u001b[0mbaseName\u001b[0m \u001b[0;34m+\u001b[0m \u001b[0mext\u001b[0m\u001b[0;34m\u001b[0m\u001b[0;34m\u001b[0m\u001b[0m\n\u001b[1;32m   2298\u001b[0m         \u001b[0minteractive\u001b[0m \u001b[0;34m=\u001b[0m \u001b[0;32mFalse\u001b[0m\u001b[0;34m\u001b[0m\u001b[0;34m\u001b[0m\u001b[0m\n\u001b[0;32m-> 2299\u001b[0;31m         \u001b[0mself\u001b[0m\u001b[0;34m.\u001b[0m\u001b[0mtk\u001b[0m \u001b[0;34m=\u001b[0m \u001b[0m_tkinter\u001b[0m\u001b[0;34m.\u001b[0m\u001b[0mcreate\u001b[0m\u001b[0;34m(\u001b[0m\u001b[0mscreenName\u001b[0m\u001b[0;34m,\u001b[0m \u001b[0mbaseName\u001b[0m\u001b[0;34m,\u001b[0m \u001b[0mclassName\u001b[0m\u001b[0;34m,\u001b[0m \u001b[0minteractive\u001b[0m\u001b[0;34m,\u001b[0m \u001b[0mwantobjects\u001b[0m\u001b[0;34m,\u001b[0m \u001b[0museTk\u001b[0m\u001b[0;34m,\u001b[0m \u001b[0msync\u001b[0m\u001b[0;34m,\u001b[0m \u001b[0muse\u001b[0m\u001b[0;34m)\u001b[0m\u001b[0;34m\u001b[0m\u001b[0;34m\u001b[0m\u001b[0m\n\u001b[0m\u001b[1;32m   2300\u001b[0m         \u001b[0;32mif\u001b[0m \u001b[0museTk\u001b[0m\u001b[0;34m:\u001b[0m\u001b[0;34m\u001b[0m\u001b[0;34m\u001b[0m\u001b[0m\n\u001b[1;32m   2301\u001b[0m             \u001b[0mself\u001b[0m\u001b[0;34m.\u001b[0m\u001b[0m_loadtk\u001b[0m\u001b[0;34m(\u001b[0m\u001b[0;34m)\u001b[0m\u001b[0;34m\u001b[0m\u001b[0;34m\u001b[0m\u001b[0m\n",
            "\u001b[0;31mTclError\u001b[0m: no display name and no $DISPLAY environment variable"
          ]
        }
      ]
    }
  ]
}