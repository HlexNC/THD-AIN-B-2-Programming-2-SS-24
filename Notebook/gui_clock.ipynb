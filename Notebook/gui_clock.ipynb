{
  "cells": [
    {
      "cell_type": "markdown",
      "metadata": {
        "colab_type": "text",
        "id": "view-in-github"
      },
      "source": [
        "<a href=\"https://colab.research.google.com/github/HlexNC/THD-AIN-B-2-Programming-2-SS-24/blob/main/Notebook/gui_clock.ipynb\" target=\"_parent\"><img src=\"https://colab.research.google.com/assets/colab-badge.svg\" alt=\"Open In Colab\"/></a>"
      ]
    },
    {
      "cell_type": "markdown",
      "metadata": {
        "id": "nKbK1fh0EIoq"
      },
      "source": [
        "# GUI Clock with Timer and Countdown in Jupyter Notebook"
      ]
    },
    {
      "cell_type": "markdown",
      "metadata": {
        "id": "kOUpa75DEIgu"
      },
      "source": [
        "## Setup\n"
      ]
    },
    {
      "cell_type": "code",
      "execution_count": 1,
      "metadata": {
        "id": "Idl0tW3sEGii"
      },
      "outputs": [],
      "source": [
        "# Import required libraries\n",
        "import tkinter as tk\n",
        "from tkinter import filedialog\n",
        "from tkinter import messagebox\n",
        "import time\n",
        "import datetime\n",
        "import threading"
      ]
    },
    {
      "cell_type": "markdown",
      "metadata": {
        "id": "asDzBwNVEOna"
      },
      "source": [
        "## GUI Clock Class"
      ]
    },
    {
      "cell_type": "code",
      "execution_count": 2,
      "metadata": {
        "id": "jBjJdB2LEVeR"
      },
      "outputs": [],
      "source": [
        "class GuiClock:\n",
        "    def __init__(self, root):\n",
        "        self.root = root\n",
        "        self.root.title(\"GUI Clock\")\n",
        "\n",
        "        self.timer_running = False\n",
        "        self.countdown_running = False\n",
        "        self.timer_start_time = None\n",
        "\n",
        "        # Clock display\n",
        "        self.time_label = tk.Label(root, font=('Helvetica', 24))\n",
        "        self.time_label.grid(row=0, column=0, columnspan=4, padx=10, pady=10)\n",
        "\n",
        "        self.update_clock()\n",
        "\n",
        "        # Timer\n",
        "        self.timer_button = tk.Button(root, text=\"Start Timer\", command=self.toggle_timer, width=10)\n",
        "        self.timer_button.grid(row=1, column=0, padx=10, pady=10)\n",
        "\n",
        "        self.file_path_var = tk.StringVar()\n",
        "        self.file_entry = tk.Entry(root, textvariable=self.file_path_var, width=30)\n",
        "        self.file_entry.grid(row=1, column=1, padx=10, pady=10)\n",
        "\n",
        "        self.browse_button = tk.Button(root, text=\"Browse\", command=self.browse_file)\n",
        "        self.browse_button.grid(row=1, column=2, padx=10, pady=10)\n",
        "\n",
        "        # Countdown\n",
        "        tk.Label(root, text=\"Minutes:\").grid(row=2, column=0, padx=10, pady=5)\n",
        "        tk.Label(root, text=\"Seconds:\").grid(row=2, column=2, padx=10, pady=5)\n",
        "\n",
        "        self.minutes_var = tk.StringVar()\n",
        "        self.seconds_var = tk.StringVar()\n",
        "\n",
        "        self.minutes_entry = tk.Entry(root, textvariable=self.minutes_var, width=5)\n",
        "        self.minutes_entry.grid(row=2, column=1, padx=10, pady=5)\n",
        "\n",
        "        self.seconds_entry = tk.Entry(root, textvariable=self.seconds_var, width=5)\n",
        "        self.seconds_entry.grid(row=2, column=3, padx=10, pady=5)\n",
        "\n",
        "        self.countdown_button = tk.Button(root, text=\"Start Countdown\", command=self.start_countdown)\n",
        "        self.countdown_button.grid(row=3, column=0, columnspan=4, pady=10)\n",
        "\n",
        "    def update_clock(self):\n",
        "        now = datetime.datetime.now()\n",
        "        current_time = now.strftime(\"%H:%M:%S %A %d-%m-%Y\")\n",
        "        self.time_label.config(text=current_time)\n",
        "        self.root.after(1000, self.update_clock)\n",
        "\n",
        "    def toggle_timer(self):\n",
        "        if self.timer_running:\n",
        "            self.stop_timer()\n",
        "        else:\n",
        "            self.start_timer()\n",
        "\n",
        "    def start_timer(self):\n",
        "        self.timer_running = True\n",
        "        self.timer_start_time = time.time()\n",
        "        self.timer_button.config(text=\"Stop Timer\", bg=\"red\")\n",
        "\n",
        "    def stop_timer(self):\n",
        "        self.timer_running = False\n",
        "        end_time = time.time()\n",
        "        duration = end_time - self.timer_start_time\n",
        "        self.timer_button.config(text=\"Start Timer\", bg=\"SystemButtonFace\")\n",
        "        self.write_timer_to_file(self.timer_start_time, end_time, duration)\n",
        "\n",
        "    def write_timer_to_file(self, start, end, duration):\n",
        "        file_path = self.file_path_var.get()\n",
        "        if not file_path:\n",
        "            messagebox.showwarning(\"No file\", \"Please select a file to save the timer logs.\")\n",
        "            return\n",
        "\n",
        "        with open(file_path, 'a') as file:\n",
        "            file.write(f\"Start: {time.ctime(start)}, End: {time.ctime(end)}, Duration: {duration:.2f} seconds\\n\")\n",
        "\n",
        "    def browse_file(self):\n",
        "        file_path = filedialog.asksaveasfilename(defaultextension=\".txt\", filetypes=[(\"Text files\", \"*.txt\"), (\"All files\", \"*.*\")])\n",
        "        if file_path:\n",
        "            self.file_path_var.set(file_path)\n",
        "\n",
        "    def start_countdown(self):\n",
        "        if self.countdown_running:\n",
        "            return\n",
        "\n",
        "        try:\n",
        "            minutes = int(self.minutes_var.get())\n",
        "            seconds = int(self.seconds_var.get())\n",
        "        except ValueError:\n",
        "            messagebox.showerror(\"Invalid input\", \"Please enter valid numbers for minutes and seconds.\")\n",
        "            return\n",
        "\n",
        "        total_seconds = minutes * 60 + seconds\n",
        "        self.countdown_running = True\n",
        "        self.update_countdown(total_seconds)\n",
        "\n",
        "    def update_countdown(self, remaining):\n",
        "        if remaining < 0:\n",
        "            self.countdown_running = False\n",
        "            messagebox.showinfo(\"Countdown finished\", \"The countdown has ended!\")\n",
        "            return\n",
        "\n",
        "        minutes, seconds = divmod(remaining, 60)\n",
        "        self.minutes_var.set(f\"{minutes:02}\")\n",
        "        self.seconds_var.set(f\"{seconds:02}\")\n",
        "\n",
        "        self.root.after(1000, self.update_countdown, remaining - 1)"
      ]
    },
    {
      "cell_type": "markdown",
      "metadata": {
        "id": "vNjuMeYFEa4j"
      },
      "source": [
        "## Main function to start the GUI"
      ]
    },
    {
      "cell_type": "code",
      "execution_count": 3,
      "metadata": {
        "id": "FaQ9tAMREc3H"
      },
      "outputs": [],
      "source": [
        "def main():\n",
        "    root = tk.Tk()\n",
        "    app = GuiClock(root)\n",
        "    root.mainloop()"
      ]
    },
    {
      "cell_type": "code",
      "execution_count": 4,
      "metadata": {
        "colab": {
          "base_uri": "https://localhost:8080/",
          "height": 321
        },
        "id": "Fm_Fu79KEgCq",
        "outputId": "a91e63ad-99fd-4b64-9abe-db77da1bf2db"
      },
      "outputs": [
        {
          "ename": "TclError",
          "evalue": "no display name and no $DISPLAY environment variable",
          "output_type": "error",
          "traceback": [
            "\u001b[0;31m---------------------------------------------------------------------------\u001b[0m",
            "\u001b[0;31mTclError\u001b[0m                                  Traceback (most recent call last)",
            "Cell \u001b[0;32mIn[4], line 3\u001b[0m\n\u001b[1;32m      1\u001b[0m \u001b[38;5;66;03m# Call the main function to run the program\u001b[39;00m\n\u001b[1;32m      2\u001b[0m \u001b[38;5;28;01mif\u001b[39;00m \u001b[38;5;18m__name__\u001b[39m \u001b[38;5;241m==\u001b[39m \u001b[38;5;124m\"\u001b[39m\u001b[38;5;124m__main__\u001b[39m\u001b[38;5;124m\"\u001b[39m:\n\u001b[0;32m----> 3\u001b[0m     \u001b[43mmain\u001b[49m\u001b[43m(\u001b[49m\u001b[43m)\u001b[49m\n",
            "Cell \u001b[0;32mIn[3], line 2\u001b[0m, in \u001b[0;36mmain\u001b[0;34m()\u001b[0m\n\u001b[1;32m      1\u001b[0m \u001b[38;5;28;01mdef\u001b[39;00m \u001b[38;5;21mmain\u001b[39m():\n\u001b[0;32m----> 2\u001b[0m     root \u001b[38;5;241m=\u001b[39m \u001b[43mtk\u001b[49m\u001b[38;5;241;43m.\u001b[39;49m\u001b[43mTk\u001b[49m\u001b[43m(\u001b[49m\u001b[43m)\u001b[49m\n\u001b[1;32m      3\u001b[0m     app \u001b[38;5;241m=\u001b[39m GuiClock(root)\n\u001b[1;32m      4\u001b[0m     root\u001b[38;5;241m.\u001b[39mmainloop()\n",
            "File \u001b[0;32m~/.python/current/lib/python3.10/tkinter/__init__.py:2299\u001b[0m, in \u001b[0;36mTk.__init__\u001b[0;34m(self, screenName, baseName, className, useTk, sync, use)\u001b[0m\n\u001b[1;32m   2297\u001b[0m         baseName \u001b[38;5;241m=\u001b[39m baseName \u001b[38;5;241m+\u001b[39m ext\n\u001b[1;32m   2298\u001b[0m interactive \u001b[38;5;241m=\u001b[39m \u001b[38;5;28;01mFalse\u001b[39;00m\n\u001b[0;32m-> 2299\u001b[0m \u001b[38;5;28mself\u001b[39m\u001b[38;5;241m.\u001b[39mtk \u001b[38;5;241m=\u001b[39m \u001b[43m_tkinter\u001b[49m\u001b[38;5;241;43m.\u001b[39;49m\u001b[43mcreate\u001b[49m\u001b[43m(\u001b[49m\u001b[43mscreenName\u001b[49m\u001b[43m,\u001b[49m\u001b[43m \u001b[49m\u001b[43mbaseName\u001b[49m\u001b[43m,\u001b[49m\u001b[43m \u001b[49m\u001b[43mclassName\u001b[49m\u001b[43m,\u001b[49m\u001b[43m \u001b[49m\u001b[43minteractive\u001b[49m\u001b[43m,\u001b[49m\u001b[43m \u001b[49m\u001b[43mwantobjects\u001b[49m\u001b[43m,\u001b[49m\u001b[43m \u001b[49m\u001b[43museTk\u001b[49m\u001b[43m,\u001b[49m\u001b[43m \u001b[49m\u001b[43msync\u001b[49m\u001b[43m,\u001b[49m\u001b[43m \u001b[49m\u001b[43muse\u001b[49m\u001b[43m)\u001b[49m\n\u001b[1;32m   2300\u001b[0m \u001b[38;5;28;01mif\u001b[39;00m useTk:\n\u001b[1;32m   2301\u001b[0m     \u001b[38;5;28mself\u001b[39m\u001b[38;5;241m.\u001b[39m_loadtk()\n",
            "\u001b[0;31mTclError\u001b[0m: no display name and no $DISPLAY environment variable"
          ]
        }
      ],
      "source": [
        "# Call the main function to run the program\n",
        "if __name__ == \"__main__\":\n",
        "    main()"
      ]
    }
  ],
  "metadata": {
    "colab": {
      "authorship_tag": "ABX9TyO5jHjOybvm8XtDVa8EK4hb",
      "include_colab_link": true,
      "provenance": []
    },
    "kernelspec": {
      "display_name": "Python 3",
      "name": "python3"
    },
    "language_info": {
      "codemirror_mode": {
        "name": "ipython",
        "version": 3
      },
      "file_extension": ".py",
      "mimetype": "text/x-python",
      "name": "python",
      "nbconvert_exporter": "python",
      "pygments_lexer": "ipython3",
      "version": "3.10.13"
    }
  },
  "nbformat": 4,
  "nbformat_minor": 0
}
